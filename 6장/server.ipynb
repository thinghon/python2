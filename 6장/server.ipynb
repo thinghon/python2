{
 "cells": [
  {
   "cell_type": "code",
   "execution_count": null,
   "id": "a1811e3c",
   "metadata": {},
   "outputs": [
    {
     "name": "stdout",
     "output_type": "stream",
     "text": [
      "서버네트워크연결초기화 .....\n",
      "클라이언트연결됨... ('127.0.0.1', 52643) \n",
      "\n",
      "[클라이언트] 안녕 난 20224016-박소호얌\n",
      "\n",
      "나도얌\n"
     ]
    }
   ],
   "source": [
    "### 채팅서버프로그램 \n",
    "#20224016-박소호\n",
    "from socket import * \n",
    "from threading import *\n",
    "# 메시젅수신함수(스레드) \n",
    "def serverRecv(): \n",
    "    while True: \n",
    "        # 데이터수신하고, 디코드하여출력\n",
    "        clientMsg = connectionSocket.recv(1024) \n",
    "        print(\"[클라이언트] \" + clientMsg.decode(\"utf8\") + \"\\n\")\n",
    "# 서버네트워크연결초기화 \n",
    "print(\"서버네트워크연결초기화 .....\")\n",
    "# 호스트주소지정 \n",
    "serverPort = 9000 \n",
    "# 서버소켓생성 \n",
    "serverSocket = socket(AF_INET, SOCK_STREAM) \n",
    "\n",
    "# 주소와소켓결합 \n",
    "serverSocket.bind(('', serverPort)) \n",
    "# 연결요청청취 \n",
    "serverSocket.listen(1)\n",
    "# 연결요청수락, 연결소켓리턴 \n",
    "connectionSocket, addr = serverSocket.accept() \n",
    "print(\"클라이언트연결됨...\", addr, \"\\n\")\n",
    "# 스레드생성및실행 \n",
    "Thread(target=serverRecv).start()\n",
    "# 데이터입력및송신무한루프 \n",
    "while True: \n",
    "    # 송신데이터입력 \n",
    "    msg = input() \n",
    "    # 문잋열인코드하여데이터송신 \n",
    "    connectionSocket.send(msg.encode(\"utf8\"))\n",
    "\n",
    "connectionSocket.close()"
   ]
  },
  {
   "cell_type": "code",
   "execution_count": null,
   "id": "39483092",
   "metadata": {},
   "outputs": [],
   "source": []
  }
 ],
 "metadata": {
  "kernelspec": {
   "display_name": "Python 3 (ipykernel)",
   "language": "python",
   "name": "python3"
  },
  "language_info": {
   "codemirror_mode": {
    "name": "ipython",
    "version": 3
   },
   "file_extension": ".py",
   "mimetype": "text/x-python",
   "name": "python",
   "nbconvert_exporter": "python",
   "pygments_lexer": "ipython3",
   "version": "3.9.12"
  }
 },
 "nbformat": 4,
 "nbformat_minor": 5
}
