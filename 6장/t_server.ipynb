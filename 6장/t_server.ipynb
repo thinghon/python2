{
 "cells": [
  {
   "cell_type": "code",
   "execution_count": null,
   "id": "d2b48d8c",
   "metadata": {},
   "outputs": [
    {
     "name": "stdout",
     "output_type": "stream",
     "text": [
      "서버 TCP 초기화 ...\n"
     ]
    }
   ],
   "source": [
    "from socket import *\n",
    " # 네트워크 TCP 연결초기화 \n",
    "print(\"서버 TCP 초기화 ...\") \n",
    "serverPort = 9000\n",
    " # 서버소켓생성 \n",
    "serverSocket = socket(AF_INET, SOCK_STREAM) \n",
    " # 주소와소켓결합 \n",
    "serverSocket.bind(('', serverPort)) \n",
    " # 연결요청청취 \n",
    "serverSocket.listen(1)\n",
    "while True: \n",
    "    # 연결요청수락, 연결소켓리턴 \n",
    "    connectionSocket, addr = serverSocket.accept()\n",
    "    print(\"클라이언트연결됨 ...\", addr) \n",
    "    # 데이터수신 \n",
    "    rawData = connectionSocket.recv(1024) \n",
    "    print(\"수신데이터: \", rawData.decode(\"utf8\")) \n",
    "    # 대문잋변환 \n",
    "    upperStr = rawData.upper() # 데이터송신 \n",
    "    connectionSocket.send(upperStr)\n",
    "    connectionSocket.close()"
   ]
  },
  {
   "cell_type": "code",
   "execution_count": null,
   "id": "1243953e",
   "metadata": {},
   "outputs": [],
   "source": []
  }
 ],
 "metadata": {
  "kernelspec": {
   "display_name": "Python 3 (ipykernel)",
   "language": "python",
   "name": "python3"
  },
  "language_info": {
   "codemirror_mode": {
    "name": "ipython",
    "version": 3
   },
   "file_extension": ".py",
   "mimetype": "text/x-python",
   "name": "python",
   "nbconvert_exporter": "python",
   "pygments_lexer": "ipython3",
   "version": "3.9.12"
  }
 },
 "nbformat": 4,
 "nbformat_minor": 5
}
