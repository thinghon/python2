{
 "cells": [
  {
   "cell_type": "code",
   "execution_count": null,
   "id": "fe30dcc5",
   "metadata": {},
   "outputs": [
    {
     "name": "stdout",
     "output_type": "stream",
     "text": [
      "클라이언트 네트워크 연결 초기화.....\n",
      "서버 연결됨...\n",
      "\n",
      "안녕 난 20224016-박소호얌\n",
      "[서버]나도얌\n",
      "\n"
     ]
    }
   ],
   "source": [
    "#채팅 클라이언트 프로그램\n",
    "#2022416-박소호\n",
    "from socket import*\n",
    "from threading import*\n",
    "\n",
    "#메서드 수신 함수(스레드)\n",
    "def clientRecv():\n",
    "    while True:\n",
    "        #데이터 수신하고, 디코드하여 출력\n",
    "        serverMsg = clientSocket.recv(1024)\n",
    "        print(\"[서버]\" + serverMsg.decode(\"utf8\")+\"\\n\")\n",
    "    clientSocket.close()\n",
    "\n",
    "#클라이언트 네트워크 연결 초기화\n",
    "print(\"클라이언트 네트워크 연결 초기화.....\")\n",
    "\n",
    "#연결할 서버 주소 지정\n",
    "serverName = '127.0.0.1'\n",
    "servePort = 9000\n",
    "\n",
    "#클라이언트 소켓 생성\n",
    "clientSocket = socket(AF_INET,SOCK_STREAM)\n",
    "\n",
    "#서버에 연결 요청\n",
    "clientSocket.connect((serverName, servePort))\n",
    "print(\"서버 연결됨...\\n\")\n",
    "\n",
    "#스레드 생성 및 실행\n",
    "Thread(target=clientRecv).start()\n",
    "\n",
    "#데이터 입력 및 송신 무한 루프\n",
    "while True:\n",
    "    #송신 데이터 입력\n",
    "    msg = input()\n",
    "    #문자열 인코드하여 데이터 송신\n",
    "    clientSocket.send(msg.encode(\"utf8\"))\n",
    "\n",
    "clientSocket.close()"
   ]
  },
  {
   "cell_type": "code",
   "execution_count": null,
   "id": "2327fa60",
   "metadata": {},
   "outputs": [],
   "source": []
  }
 ],
 "metadata": {
  "kernelspec": {
   "display_name": "Python 3 (ipykernel)",
   "language": "python",
   "name": "python3"
  },
  "language_info": {
   "codemirror_mode": {
    "name": "ipython",
    "version": 3
   },
   "file_extension": ".py",
   "mimetype": "text/x-python",
   "name": "python",
   "nbconvert_exporter": "python",
   "pygments_lexer": "ipython3",
   "version": "3.9.12"
  }
 },
 "nbformat": 4,
 "nbformat_minor": 5
}
