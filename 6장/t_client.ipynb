{
 "cells": [
  {
   "cell_type": "code",
   "execution_count": 1,
   "id": "10607794",
   "metadata": {},
   "outputs": [
    {
     "name": "stdout",
     "output_type": "stream",
     "text": [
      "클라이언트TCP 초기화...\n"
     ]
    },
    {
     "ename": "TimeoutError",
     "evalue": "[WinError 10060] 연결된 구성원으로부터 응답이 없어 연결하지 못했거나, 호스트로부터 응답이 없어 연결이 끊어졌습니다",
     "output_type": "error",
     "traceback": [
      "\u001b[1;31m---------------------------------------------------------------------------\u001b[0m",
      "\u001b[1;31mTimeoutError\u001b[0m                              Traceback (most recent call last)",
      "Input \u001b[1;32mIn [1]\u001b[0m, in \u001b[0;36m<cell line: 11>\u001b[1;34m()\u001b[0m\n\u001b[0;32m      9\u001b[0m clientSocket \u001b[38;5;241m=\u001b[39m socket(AF_INET, SOCK_STREAM) \n\u001b[0;32m     10\u001b[0m \u001b[38;5;66;03m# 서버에연결요청 \u001b[39;00m\n\u001b[1;32m---> 11\u001b[0m \u001b[43mclientSocket\u001b[49m\u001b[38;5;241;43m.\u001b[39;49m\u001b[43mconnect\u001b[49m\u001b[43m(\u001b[49m\u001b[43m(\u001b[49m\u001b[43mserverName\u001b[49m\u001b[43m,\u001b[49m\u001b[43m \u001b[49m\u001b[43mserverPort\u001b[49m\u001b[43m)\u001b[49m\u001b[43m)\u001b[49m \n\u001b[0;32m     12\u001b[0m \u001b[38;5;28mprint\u001b[39m(\u001b[38;5;124m\"\u001b[39m\u001b[38;5;124m서버연결됨 ...\u001b[39m\u001b[38;5;124m\"\u001b[39m)\n\u001b[0;32m     13\u001b[0m rawData \u001b[38;5;241m=\u001b[39m \u001b[38;5;28minput\u001b[39m(\u001b[38;5;124m'\u001b[39m\u001b[38;5;124m입력영문자: \u001b[39m\u001b[38;5;124m'\u001b[39m)\n",
      "\u001b[1;31mTimeoutError\u001b[0m: [WinError 10060] 연결된 구성원으로부터 응답이 없어 연결하지 못했거나, 호스트로부터 응답이 없어 연결이 끊어졌습니다"
     ]
    }
   ],
   "source": [
    "### TCP 클라이언트프로그램 \n",
    "from socket import *\n",
    "# 네트워크 TCP 연결초기화 \n",
    "print(\"클라이언트TCP 초기화...\") \n",
    "# 연결할서버주소젅정 \n",
    "serverName = '192.168.0.109'\n",
    "serverPort = 9009 \n",
    "# 클라이언트소켓생성 \n",
    "clientSocket = socket(AF_INET, SOCK_STREAM) \n",
    "# 서버에연결요청 \n",
    "clientSocket.connect((serverName, serverPort)) \n",
    "print(\"서버연결됨 ...\")\n",
    "rawData = input('입력영문자: ')\n",
    " # 문잋열인코드하여데이터송신 \n",
    "clientSocket.send(rawData.encode(\"utf8\")) \n",
    " # 데이터수신 \n",
    "modifiedStr = clientSocket.recv(1024) \n",
    "print(\"서버로부터수신: \" , modifiedStr.decode(\"utf8\"))"
   ]
  },
  {
   "cell_type": "code",
   "execution_count": null,
   "id": "3bc8dcc5",
   "metadata": {},
   "outputs": [],
   "source": []
  }
 ],
 "metadata": {
  "kernelspec": {
   "display_name": "Python 3 (ipykernel)",
   "language": "python",
   "name": "python3"
  },
  "language_info": {
   "codemirror_mode": {
    "name": "ipython",
    "version": 3
   },
   "file_extension": ".py",
   "mimetype": "text/x-python",
   "name": "python",
   "nbconvert_exporter": "python",
   "pygments_lexer": "ipython3",
   "version": "3.9.12"
  }
 },
 "nbformat": 4,
 "nbformat_minor": 5
}
