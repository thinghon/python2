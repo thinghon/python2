{
 "cells": [
  {
   "cell_type": "code",
   "execution_count": null,
   "id": "ec0e5655",
   "metadata": {},
   "outputs": [
    {
     "name": "stdout",
     "output_type": "stream",
     "text": [
      " * Serving Flask app \"__main__\" (lazy loading)\n",
      " * Environment: production\n",
      "\u001b[31m   WARNING: This is a development server. Do not use it in a production deployment.\u001b[0m\n",
      "\u001b[2m   Use a production WSGI server instead.\u001b[0m\n",
      " * Debug mode: off\n"
     ]
    },
    {
     "name": "stderr",
     "output_type": "stream",
     "text": [
      " * Running on http://192.168.0.198:8080/ (Press CTRL+C to quit)\n",
      "192.168.0.198 - - [22/Sep/2022 23:58:24] \"GET / HTTP/1.1\" 200 -\n",
      "192.168.0.198 - - [22/Sep/2022 23:58:24] \"GET /favicon.ico HTTP/1.1\" 404 -\n"
     ]
    }
   ],
   "source": [
    "#20224016-박소호\n",
    "from flask import Flask, render_template\n",
    "\n",
    "app = Flask(__name__)\n",
    "\n",
    "@app.route(\"/\")\n",
    "def loop_test():\n",
    "    dept_list = ['컴퓨터공학과','전자공학과','기계공학과','화공과']\n",
    "    return render_template('loop.html',values=dept_list)\n",
    "\n",
    "if __name__==\"__main__\":\n",
    "    app.run(host=\"192.168.0.198\", port=\"8080\")"
   ]
  },
  {
   "cell_type": "code",
   "execution_count": null,
   "id": "6d1072bc",
   "metadata": {},
   "outputs": [],
   "source": []
  }
 ],
 "metadata": {
  "kernelspec": {
   "display_name": "Python 3 (ipykernel)",
   "language": "python",
   "name": "python3"
  },
  "language_info": {
   "codemirror_mode": {
    "name": "ipython",
    "version": 3
   },
   "file_extension": ".py",
   "mimetype": "text/x-python",
   "name": "python",
   "nbconvert_exporter": "python",
   "pygments_lexer": "ipython3",
   "version": "3.9.12"
  },
  "vscode": {
   "interpreter": {
    "hash": "b58c2499f3d1762b77bf08c0b4d5771686b3086ca4ba5444e9a01051d40356e1"
   }
  }
 },
 "nbformat": 4,
 "nbformat_minor": 5
}
