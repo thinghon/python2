{
 "cells": [
  {
   "cell_type": "code",
   "execution_count": null,
   "id": "231cf23d",
   "metadata": {},
   "outputs": [
    {
     "name": "stdout",
     "output_type": "stream",
     "text": [
      " * Serving Flask app \"__main__\" (lazy loading)\n",
      " * Environment: production\n",
      "\u001b[31m   WARNING: This is a development server. Do not use it in a production deployment.\u001b[0m\n",
      "\u001b[2m   Use a production WSGI server instead.\u001b[0m\n",
      " * Debug mode: off\n"
     ]
    },
    {
     "name": "stderr",
     "output_type": "stream",
     "text": [
      " * Running on http://192.168.0.198:8080/ (Press CTRL+C to quit)\n",
      "192.168.0.198 - - [23/Sep/2022 00:18:35] \"GET / HTTP/1.1\" 200 -\n"
     ]
    }
   ],
   "source": [
    "from flask import Flask, render_template\n",
    "import urllib.request\n",
    "from bs4 import BeautifulSoup\n",
    "\n",
    "#기상청 힌남노 태풍 현황 페이지 열기\n",
    "page = urllib.request.urlopen(\"https://www.weather.go.kr/w/typhoon/typ-history-pop.do?json=%7B%22typYear%22:2022,%22typSeq%22:11%7D\").read()\n",
    "soup = BeautifulSoup(page,'html.parser') #뷰티풀 수프 객체 생성\n",
    "#힌남노 태풍 tbody 검색\n",
    "table = soup.find('tbody', {'id':'testId'})\n",
    "\n",
    "data = []\n",
    "\n",
    "#모든 <tr>태그를 검색 각 시간별 데이터를 가져옴\n",
    "for tr in table.find_all('tr'): #각 시간의 행tr에 대해 반복\n",
    "    tds = tr.find_all('td') #<td> 검색하여 한 행의 모든 데이터 가져옴\n",
    "    for td in tds: #하나의 시간 값들 td에 대해 반복\n",
    "        date = tds[0].text #<td>태그 리스트의 첫번째(인덱스 0)에서 날짜를 가져옴\n",
    "        date_1 = date.strip() #양쪽 공백을 없앤다\n",
    "        wind_speed = tds[5].text #<td>태그 리스트의 여섯번째(인덱스 5)에서 풍속(시속)을 가져옴\n",
    "        wind_speed_1 = wind_speed.strip() #양쪽 공백을 없앤다\n",
    "        speed = tds[10].text #<td>태그 리스트의 열번째(인덱스 10)에서 이동속도를 가져옴\n",
    "        speed_1 = speed.strip() #양쪽 공백을 없앤다\n",
    "        data.append([date_1,wind_speed_1,speed_1]) #data리스트에 날짜,풍속,이동속도를 추가\n",
    "\n",
    "app = Flask(__name__) #플라스크 객체 생성\n",
    "\n",
    "@app.route(\"/\")#웹요청 경로 지정\n",
    "#실행함수 작성\n",
    "def weather():\n",
    "    return render_template('weather.html',dv=data)\n",
    "#플라스크 서버 구동\n",
    "if __name__==\"__main__\":\n",
    "    app.run(host=\"192.168.0.198\", port=\"8080\")#내컴퓨터 ip주소와 포트번호"
   ]
  },
  {
   "cell_type": "code",
   "execution_count": null,
   "id": "8b5368c2",
   "metadata": {},
   "outputs": [],
   "source": []
  }
 ],
 "metadata": {
  "kernelspec": {
   "display_name": "Python 3 (ipykernel)",
   "language": "python",
   "name": "python3"
  },
  "language_info": {
   "codemirror_mode": {
    "name": "ipython",
    "version": 3
   },
   "file_extension": ".py",
   "mimetype": "text/x-python",
   "name": "python",
   "nbconvert_exporter": "python",
   "pygments_lexer": "ipython3",
   "version": "3.9.12"
  }
 },
 "nbformat": 4,
 "nbformat_minor": 5
}
