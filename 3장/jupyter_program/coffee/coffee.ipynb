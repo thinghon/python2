{
 "cells": [
  {
   "cell_type": "code",
   "execution_count": null,
   "id": "78ce35a6",
   "metadata": {},
   "outputs": [
    {
     "name": "stdout",
     "output_type": "stream",
     "text": [
      " * Serving Flask app \"__main__\" (lazy loading)\n",
      " * Environment: production\n",
      "\u001b[31m   WARNING: This is a development server. Do not use it in a production deployment.\u001b[0m\n",
      "\u001b[2m   Use a production WSGI server instead.\u001b[0m\n",
      " * Debug mode: off\n"
     ]
    },
    {
     "name": "stderr",
     "output_type": "stream",
     "text": [
      " * Running on http://192.168.0.198:5000/ (Press CTRL+C to quit)\n",
      "192.168.0.198 - - [22/Sep/2022 23:42:27] \"GET / HTTP/1.1\" 200 -\n",
      "192.168.0.198 - - [22/Sep/2022 23:42:27] \"GET /favicon.ico HTTP/1.1\" 404 -\n",
      "192.168.0.198 - - [22/Sep/2022 23:43:29] \"GET / HTTP/1.1\" 200 -\n"
     ]
    }
   ],
   "source": [
    "from flask import Flask, render_template\n",
    "\n",
    "app = Flask(__name__)\n",
    "\n",
    "@app.route(\"/\")\n",
    "def prices():\n",
    "    import random\n",
    "    import time\n",
    "    \n",
    "    p = random.uniform(4,7)\n",
    "    price = round(p,2)\n",
    "    daytime = time.asctime()\n",
    "    return render_template(\"prices.html\", pr=price, dt = daytime)\n",
    "\n",
    "if __name__==\"__main__\":\n",
    "    app.run(host=\"192.168.0.198\", port=\"5000\")"
   ]
  },
  {
   "cell_type": "code",
   "execution_count": null,
   "id": "1e554acf",
   "metadata": {},
   "outputs": [],
   "source": []
  }
 ],
 "metadata": {
  "kernelspec": {
   "display_name": "Python 3 (ipykernel)",
   "language": "python",
   "name": "python3"
  },
  "language_info": {
   "codemirror_mode": {
    "name": "ipython",
    "version": 3
   },
   "file_extension": ".py",
   "mimetype": "text/x-python",
   "name": "python",
   "nbconvert_exporter": "python",
   "pygments_lexer": "ipython3",
   "version": "3.9.12"
  }
 },
 "nbformat": 4,
 "nbformat_minor": 5
}
